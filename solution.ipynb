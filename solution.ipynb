{
 "cells": [
  {
   "cell_type": "code",
   "execution_count": 3,
   "metadata": {
    "scrolled": true
   },
   "outputs": [],
   "source": [
    "import cv2\n",
    "import numpy as np\n",
    "\n",
    "import glob\n",
    "\n",
    "import time\n",
    "\n",
    "import pickle\n",
    "\n",
    "import matplotlib.image as mpimg\n",
    "import matplotlib.pyplot as plt\n",
    "\n",
    "from skimage.feature import hog\n",
    "from sklearn.svm import LinearSVC\n",
    "from sklearn.preprocessing import StandardScaler\n",
    "from sklearn.model_selection import train_test_split\n",
    "import matplotlib.image as mpimg\n",
    "import matplotlib.pyplot as plt\n",
    "import numpy as np\n",
    "import cv2\n",
    "import glob\n",
    "import time\n",
    "from sklearn.svm import LinearSVC\n",
    "from sklearn.preprocessing import StandardScaler\n",
    "# NOTE: the next import is only valid \n",
    "# for scikit-learn version <= 0.17\n",
    "# if you are using scikit-learn >= 0.18 then use this:\n",
    "# from sklearn.model_selection import train_test_split\n",
    "from sklearn.cross_validation import train_test_split"
   ]
  },
  {
   "cell_type": "code",
   "execution_count": 4,
   "metadata": {},
   "outputs": [],
   "source": [
    "spatial_size=(32, 32)\n",
    "hist_bins=32\n",
    "orient=9\n",
    "pix_per_cell=8 \n",
    "cell_per_block=2 \n",
    "hog_channel=0\n",
    "                     \n",
    "spatial_feat=True\n",
    "hist_feat=True\n",
    "hog_feat=True"
   ]
  },
  {
   "cell_type": "code",
   "execution_count": 5,
   "metadata": {
    "scrolled": true
   },
   "outputs": [
    {
     "name": "stdout",
     "output_type": "stream",
     "text": [
      "veh_gti_far length: 834\nveh_gti_l length: 909\nveh_gti_far length: 419\nveh_gti_far length: 664\nveh_gti_far length: 5966\nnonveh_extras length: 5068\nnonveh_gti length: 3900\nTotal Vehicles: 8792 Total Non Vehicles: 8968\n"
     ]
    }
   ],
   "source": [
    "# load the dataset\n",
    "# path_dataset_vehicle = ./dataset/vehicles\n",
    "# path_dataset_nonvehicle = ./dataset/non-vehicles\n",
    "\n",
    "# vehicles\n",
    "\n",
    "veh_gti_far = glob.glob('./dataset/vehicles/GTI_Far/*.png')\n",
    "veh_gti_l = glob.glob('./dataset/vehicles/GTI_Left/*.png')\n",
    "veh_gti_mid_close = glob.glob('./dataset/vehicles/GTI_MiddleClose/*.png')\n",
    "veh_gti_r = glob.glob('./dataset/vehicles/GTI_Right/*.png')\n",
    "veh_kitti = glob.glob('./dataset/vehicles/KITTI_extracted/*.png')\n",
    "\n",
    "#non vehicles\n",
    "nonveh_extras = glob.glob('./dataset/non-vehicles/Extras/*.png')\n",
    "nonveh_gti = glob.glob('./dataset/non-vehicles/GTI/*.png')\n",
    "\n",
    "# evaluate the dataset\n",
    "len_veh_gti_far = len(veh_gti_far)\n",
    "len_veh_gti_l = len(veh_gti_l)\n",
    "len_veh_gti_mid_close = len(veh_gti_mid_close)\n",
    "len_veh_gti_r = len(veh_gti_r)\n",
    "len_veh_kitti = len(veh_kitti)\n",
    "len_all_veh = len_veh_gti_far + len_veh_gti_l + len_veh_gti_mid_close \\\n",
    "    + len_veh_gti_r + len_veh_kitti\n",
    "\n",
    "\n",
    "len_nonveh_extras = len(nonveh_extras)\n",
    "len_nonveh_gti = len(nonveh_gti)\n",
    "len_all_non_veh =len_nonveh_extras+len_nonveh_gti\n",
    "\n",
    "print('veh_gti_far length: {}' .format(len_veh_gti_far))\n",
    "print('veh_gti_l length: {}' .format(len_veh_gti_l))\n",
    "print('veh_gti_far length: {}' .format(len_veh_gti_mid_close))\n",
    "print('veh_gti_far length: {}' .format(len_veh_gti_r))\n",
    "print('veh_gti_far length: {}' .format(len_veh_kitti))\n",
    "print('nonveh_extras length: {}' .format(len_nonveh_extras))\n",
    "print('nonveh_gti length: {}' .format(len_nonveh_gti))\n",
    "\n",
    "print('Total Vehicles: {} Total Non Vehicles: {}' .format(len_all_veh,len_all_non_veh ))"
   ]
  },
  {
   "cell_type": "code",
   "execution_count": 6,
   "metadata": {
    "collapsed": true,
    "scrolled": true
   },
   "outputs": [],
   "source": [
    "# shuffle and split the data \n",
    "all_veh = veh_gti_far + veh_gti_l + veh_gti_mid_close \\\n",
    "    + veh_gti_r + veh_kitti\n",
    "\n",
    "all_non_veh = nonveh_extras + nonveh_gti"
   ]
  },
  {
   "cell_type": "code",
   "execution_count": 6,
   "metadata": {
    "scrolled": true
   },
   "outputs": [],
   "source": [
    "%matplotlib inline\n",
    "# plt.rcParams['figure.figsize'] = (20,20)\n",
    "# plt.rcParams['figure.figsize'] = (10.0, 8.0)\n",
    "# matplotlib.rcParams['figure.figsize'] = (10.0, 8.0)\n",
    "\n",
    "#print ('rows: {}' .format(rows))\n",
    "\n",
    "n_examples = 5\n",
    "columns = 2\n",
    "w = 16\n",
    "h = 16\n",
    "# fig=plt.figure(figsize=(180, 160), dpi= 80, facecolor='w', edgecolor='k')\n",
    "fig, axes = plt.subplots(n_examples,columns, figsize=(w,h))\n",
    "axes = axes.ravel()\n",
    "for i in range(len(axes)):\n",
    "    axes[i].axis('off')\n",
    "    \n",
    "# iterate through the classes and pull together useful information\n",
    "for i in range(n_examples): \n",
    "    axes[i * 2].imshow(mpimg.imread(all_veh[np.random.randint(0,len(all_veh)-1)]))\n",
    "    axes[i * 2].set_title('vehicle')\n",
    "    axes[i * 2 +1].imshow(mpimg.imread(all_non_veh[np.random.randint(0,len(all_non_veh)-1)]))\n",
    "    axes[i * 2 +1].set_title('non vehicle')"
   ]
  },
  {
   "cell_type": "code",
   "execution_count": 6,
   "metadata": {
    "collapsed": true,
    "scrolled": true
   },
   "outputs": [],
   "source": [
    "# Define a function to return HOG features and visualization\n",
    "def get_hog_features(img, orient, pix_per_cell, cell_per_block, vis=False, feature_vec=True):\n",
    "    if vis == True:\n",
    "        features, hog_image = hog(img, orientations=orient, pixels_per_cell=(pix_per_cell, pix_per_cell),\n",
    "                                  cells_per_block=(cell_per_block, cell_per_block), transform_sqrt=False,\n",
    "                                  visualise=True, feature_vector=False)\n",
    "        return features, hog_image\n",
    "    else:\n",
    "        features = hog(img, orientations=orient, pixels_per_cell=(pix_per_cell, pix_per_cell),\n",
    "                       cells_per_block=(cell_per_block, cell_per_block), transform_sqrt=False,\n",
    "                       visualise=False, feature_vector=feature_vec)\n",
    "        return features"
   ]
  },
  {
   "cell_type": "code",
   "execution_count": 6,
   "metadata": {
    "collapsed": true,
    "scrolled": true
   },
   "outputs": [],
   "source": [
    "def plot_figure(array_to_plot, labels_array, n_rows, n_columns, figuresize=(64,64),colourmap='gray'):\n",
    "    fig, axes = plt.subplots( n_rows, n_columns,figsize=figuresize)\n",
    "    axes = axes.ravel()\n",
    "\n",
    "    for i in range(len(array_to_plot)):\n",
    "        print('i {}'.format(i))\n",
    "        print('title {}'.format(labels_array[i]))\n",
    "        axes[i].imshow(array_to_plot[i], cmap=colourmap)\n",
    "        axes[i].set_title(labels_array[i])\n",
    "        axes[i].axis('off')\n",
    "\n",
    "    # TODO Reinstate\n",
    "    plt.tight_layout()\n",
    "    plt.show()\n",
    "    plt.savefig('./output_images/dataset_samples.png')"
   ]
  },
  {
   "cell_type": "code",
   "execution_count": 7,
   "metadata": {
    "collapsed": true
   },
   "outputs": [],
   "source": [
    "def explore_hog(veh_img,gray):\n",
    "\n",
    "    %matplotlib inline\n",
    "    plt.rcParams['figure.figsize'] = (20,20)\n",
    "    \n",
    "    print ('function to visualise the dataset and hog output')\n",
    "\n",
    "    i=0\n",
    "    rows = 2\n",
    "    columns = 4\n",
    "    w = 16\n",
    "    h = 16\n",
    "    \n",
    "    # fig=plt.figure(figsize=(180, 160), dpi= 80, facecolor='w', edgecolor='k')\n",
    "    fig, axes = plt.subplots(rows,columns, figsize=(w,h))\n",
    "    plt.tight_layout()\n",
    "    fig.subplots_adjust(hspace = .1, wspace=.5)    \n",
    "    \n",
    "    axes = axes.ravel()\n",
    "    # for i in range(len(axes)):\n",
    "    #     axes[i].axis('off')\n",
    "        \n",
    "    # iterate through the classes and pull together useful information\n",
    "    # for i in range(n_examples): \n",
    "    # veh_img = mpimg.imread(all_veh[rnd])\n",
    "    axes[i*0].set_title('vehicle')   \n",
    "    axes[i*0].imshow(veh_img)\n",
    "\n",
    "    axes[i*4+1].set_title('chn0')     \n",
    "    axes[i*4+1].imshow(veh_img[:,:,0], cmap='gray')\n",
    "    axes[i*4+2].set_title('chn1')\n",
    "    axes[i*4+2].imshow(veh_img[:,:,1], cmap='gray')\n",
    "    axes[i*4+3].set_title('chn2')     \n",
    "    axes[i*4+3].imshow(veh_img[:,:,2], cmap='gray')\n",
    "       \n",
    "\n",
    "    \n",
    "    i+=1\n",
    "    features, hog_image = get_hog_features(gray, orient,\n",
    "                                           pix_per_cell, cell_per_block,\n",
    "                                           vis=True, feature_vec=False)\n",
    "    axes[i*4].set_title('gray')    \n",
    "    axes[i*4].imshow(hog_image, cmap='gray')\n",
    "    \n",
    "    features, hog_image = get_hog_features(veh_img[:,:,0], orient,\n",
    "                                           pix_per_cell, cell_per_block,\n",
    "                                           vis=True, feature_vec=False)\n",
    "    axes[i*4+1].set_title('chn0')    \n",
    "    axes[i*4+1].imshow(hog_image, cmap='gray')\n",
    "      \n",
    "    features, hog_image = get_hog_features(veh_img[:,:,1], orient,\n",
    "                                           pix_per_cell, cell_per_block,\n",
    "                                           vis=True, feature_vec=False)\n",
    "    axes[i*4+2].set_title('chn1')    \n",
    "    axes[i*4+2].imshow(hog_image, cmap='gray')\n",
    "\n",
    "    features, hog_image = get_hog_features(veh_img[:,:,2], orient,\n",
    "                                           pix_per_cell, cell_per_block,\n",
    "                                           vis=True, feature_vec=False)\n",
    "    axes[i*4+3].set_title('chn2')    \n",
    "    axes[i*4+3].imshow(hog_image, cmap='gray')"
   ]
  },
  {
   "cell_type": "code",
   "execution_count": 38,
   "metadata": {
    "collapsed": true,
    "scrolled": true
   },
   "outputs": [],
   "source": [
    "def convert_color(img, cspace='YCrCb'):\n",
    "    if cspace != 'RGB':\n",
    "        if cspace == 'HSV':\n",
    "            return cv2.cvtColor(img, cv2.COLOR_RGB2HSV)\n",
    "        elif cspace == 'LUV':\n",
    "            return cv2.cvtColor(img, cv2.COLOR_RGB2LUV)\n",
    "        elif cspace == 'HLS':\n",
    "            return cv2.cvtColor(img, cv2.COLOR_RGB2HLS)\n",
    "        elif cspace == 'YUV':\n",
    "            return cv2.cvtColor(img, cv2.COLOR_RGB2YUV)\n",
    "        elif cspace == 'YCrCb':\n",
    "            return cv2.cvtColor(img, cv2.COLOR_RGB2YCrCb)"
   ]
  },
  {
   "cell_type": "code",
   "execution_count": 12,
   "metadata": {
    "collapsed": true,
    "scrolled": true
   },
   "outputs": [],
   "source": [
    "# Define a function to compute binned color features  \n",
    "def bin_spatial(img, size=(32, 32)):\n",
    "    # Use cv2.resize().ravel() to create the feature vector\n",
    "    features = cv2.resize(img, size).ravel() \n",
    "    # Return the feature vector\n",
    "    return features"
   ]
  },
  {
   "cell_type": "code",
   "execution_count": 13,
   "metadata": {
    "collapsed": true,
    "scrolled": true
   },
   "outputs": [],
   "source": [
    "# Define a function to compute color histogram features  \n",
    "def color_hist(img, nbins=32, bins_range=(0, 256)):\n",
    "    # Compute the histogram of the color channels separately\n",
    "    channel1_hist = np.histogram(img[:,:,0], bins=nbins, range=bins_range)\n",
    "    channel2_hist = np.histogram(img[:,:,1], bins=nbins, range=bins_range)\n",
    "    channel3_hist = np.histogram(img[:,:,2], bins=nbins, range=bins_range)\n",
    "    # Concatenate the histograms into a single feature vector\n",
    "    hist_features = np.concatenate((channel1_hist[0], channel2_hist[0], channel3_hist[0]))\n",
    "    # Return the individual histograms, bin_centers and feature vector\n",
    "    return hist_features"
   ]
  },
  {
   "cell_type": "code",
   "execution_count": 14,
   "metadata": {
    "collapsed": true,
    "scrolled": true
   },
   "outputs": [],
   "source": [
    "# Define a function to extract features from a list of images\n",
    "# Have this function call bin_spatial() and color_hist()\n",
    "def extract_features_from_course(files, cspace='RGB', spatial_size=(32, 32),\n",
    "                        hist_bins=32, hist_range=(0, 256)):\n",
    "    # Create a list to append feature vectors to\n",
    "    features = []\n",
    "    # Iterate through the list of images\n",
    "    for file in files:\n",
    "        # Read in each one by one\n",
    "        image = mpimg.imread(file)\n",
    "        # apply color conversion if other than 'RGB'\n",
    "        if cspace != 'RGB':\n",
    "            if cspace == 'HSV':\n",
    "                feature_image = cv2.cvtColor(image, cv2.COLOR_RGB2HSV)\n",
    "            elif cspace == 'LUV':\n",
    "                feature_image = cv2.cvtColor(image, cv2.COLOR_RGB2LUV)\n",
    "            elif cspace == 'HLS':\n",
    "                feature_image = cv2.cvtColor(image, cv2.COLOR_RGB2HLS)\n",
    "            elif cspace == 'YUV':\n",
    "                feature_image = cv2.cvtColor(image, cv2.COLOR_RGB2YUV)\n",
    "        else: feature_image = np.copy(image)      \n",
    "        # Apply bin_spatial() to get spatial color features\n",
    "        spatial_features = bin_spatial(feature_image, size=spatial_size)\n",
    "        # Apply color_hist() also with a color space option now\n",
    "        hist_features = color_hist(feature_image, nbins=hist_bins, bins_range=hist_range)\n",
    "        # Append the new feature vector to the features list\n",
    "        features.append(np.concatenate((spatial_features, hist_features)))\n",
    "    # Return list of feature vectors\n",
    "    return features\n",
    "\n",
    "\n",
    "def extract_imgs_features(files, color_space='RGB', spatial_size=(32, 32),\n",
    "                        hist_bins=32, orient=9, \n",
    "                        pix_per_cell=8, cell_per_block=2, hog_channel=0,\n",
    "                        spatial_feat=True, hist_feat=True, hog_feat=True): \n",
    "    # Create a list to append feature vectors to\n",
    "    features = []\n",
    "    # Iterate through the list of images\n",
    "    for file in files:\n",
    "        img = mpimg.imread(file)\n",
    "        # plt.imshow(img)\n",
    "        features.append(single_img_features(img, color_space='RGB', spatial_size=(32, 32),\n",
    "                        hist_bins=32, orient=9, \n",
    "                        pix_per_cell=8, cell_per_block=2, hog_channel=0,\n",
    "                        spatial_feat=False, hist_feat=False, hog_feat=True))\n",
    "    return features"
   ]
  },
  {
   "cell_type": "code",
   "execution_count": 15,
   "metadata": {
    "collapsed": true,
    "scrolled": true
   },
   "outputs": [
    {
     "name": "stdout",
     "output_type": "stream",
     "text": [
      "end of cell\n"
     ]
    }
   ],
   "source": [
    "# Define a function to extract features from a single image window\n",
    "# This function is very similar to extract_features()\n",
    "# just for a single image rather than list of images\n",
    "def single_img_features(img, color_space='RGB', spatial_size=(32, 32),\n",
    "                        hist_bins=32, orient=9,\n",
    "                        pix_per_cell=8, cell_per_block=2, hog_channel=0,\n",
    "                        spatial_feat=False, hog_feat=True, hist_feat=False):    \n",
    "    #1) Define an empty list to receive features\n",
    "    img_features = []\n",
    "    # print('image shape: {}' .format(img.shape))\n",
    "    \n",
    "    #2) Apply color conversion if other than 'RGB'\n",
    "    #TODO replace with a call to convert colour\n",
    "    if color_space != 'RGB':\n",
    "        if color_space == 'HSV':\n",
    "            feature_image = cv2.cvtColor(img, cv2.COLOR_RGB2HSV)\n",
    "        elif color_space == 'LUV':\n",
    "            feature_image = cv2.cvtColor(img, cv2.COLOR_RGB2LUV)\n",
    "        elif color_space == 'HLS':\n",
    "            feature_image = cv2.cvtColor(img, cv2.COLOR_RGB2HLS)\n",
    "        elif color_space == 'YUV':\n",
    "            feature_image = cv2.cvtColor(img, cv2.COLOR_RGB2YUV)\n",
    "        elif color_space == 'YCrCb':\n",
    "            feature_image = cv2.cvtColor(img, cv2.COLOR_RGB2YCrCb)\n",
    "    else: feature_image = np.copy(img)      \n",
    "    #3) Compute spatial features if flag is set\n",
    "    if spatial_feat == True:\n",
    "        spatial_features = bin_spatial(feature_image, size=spatial_size)\n",
    "        #4) Append features to list\n",
    "        img_features.append(spatial_features)\n",
    "    #5) Compute histogram features if flag is set\n",
    "    if hist_feat == True:\n",
    "        hist_features = color_hist(feature_image, nbins=hist_bins)\n",
    "        #6) Append features to list\n",
    "        img_features.append(hist_features)\n",
    "    #7) Compute HOG features if flag is set\n",
    "    if hog_feat == True:\n",
    "        # print('hog_feat')\n",
    "        if hog_channel == 'ALL':\n",
    "            hog_features = []\n",
    "            for channel in range(feature_image.shape[2]):\n",
    "                hog_features.extend(get_hog_features(feature_image[:,:,channel], \n",
    "                                    orient, pix_per_cell, cell_per_block, \n",
    "                                    vis=False, feature_vec=True))      \n",
    "        else:\n",
    "            hog_features = get_hog_features(feature_image[:,:,hog_channel], orient, \n",
    "                        pix_per_cell, cell_per_block, vis=False, feature_vec=True)\n",
    "        #8) Append features to list\n",
    "        img_features.append(hog_features)\n",
    "        # print('img_features len: {}' .format(len(img_features)))\n",
    "\n",
    "    #9) Return concatenated array of features\n",
    "    return np.concatenate(img_features)\n",
    "\n",
    "print('end of cell')"
   ]
  },
  {
   "cell_type": "code",
   "execution_count": 16,
   "metadata": {},
   "outputs": [
    {
     "name": "stdout",
     "output_type": "stream",
     "text": [
      "running\nextracting features\n"
     ]
    },
    {
     "name": "stderr",
     "output_type": "stream",
     "text": [
      "C:\\Users\\georg\\Miniconda3\\envs\\carnd-term1\\lib\\site-packages\\skimage\\feature\\_hog.py:119: skimage_deprecation: Default value of `block_norm`==`L1` is deprecated and will be changed to `L2-Hys` in v0.15\n  'be changed to `L2-Hys` in v0.15', skimage_deprecation)\n"
     ]
    },
    {
     "name": "stdout",
     "output_type": "stream",
     "text": [
      "don extracting features\n"
     ]
    },
    {
     "name": "stdout",
     "output_type": "stream",
     "text": [
      "features len: 8792\nfeatures shape: 1\nX_train len: 14208\nX_test len: 3552\nX_test len: 3552\ny_test len: 3552\ncreating svc\ndone creating svc\ndone\n"
     ]
    },
    {
     "data": {
      "image/png": "[encoded data removed]",
      "text/plain": [
       "<matplotlib.figure.Figure at 0x13294559828>"
      ]
     },
     "metadata": {},
     "output_type": "display_data"
    }
   ],
   "source": [
    "# \n",
    "# # Read in car and non-car images\n",
    "# images = glob.glob('*.jpeg')\n",
    "# cars = []\n",
    "# notcars = []\n",
    "# for image in images:\n",
    "#     if 'image' in image or 'extra' in image:\n",
    "#         notcars.append(image)\n",
    "#     else:\n",
    "#         cars.append(image)\n",
    "\n",
    "# TODO play with these values to see how your classifier\n",
    "# performs under different binning scenarios\n",
    "spatial = 32\n",
    "histbin = 32\n",
    "\n",
    "print('running')\n",
    "cars = all_veh\n",
    "notcars = all_non_veh\n",
    "\n",
    "# car_features = extract_features(cars, cspace='RGB', spatial_size=(spatial, spatial),\n",
    "#                         hist_bins=histbin, hist_range=(0, 256))\n",
    "# notcar_features = extract_features(notcars, cspace='RGB', spatial_size=(spatial, spatial),\n",
    "#                         hist_bins=histbin, hist_range=(0, 256))\n",
    "\n",
    "# def extract_features_DELETEME(imgs, cspace='RGB', orient=9, \n",
    "#                         pix_per_cell=8, cell_per_block=2, hog_channel=0):\n",
    "    \n",
    "# car_features = extract_features_DELETEME(cars, cspace='RGB')\n",
    "# notcar_features = extract_features_DELETEME(notcars, cspace='RGB')\n",
    "\n",
    "global_colour_space = 'YCrCb'\n",
    "\n",
    "print('extracting features')\n",
    "car_features = extract_imgs_features(cars, color_space=global_colour_space, spatial_size=(32, 32),\n",
    "                        hist_bins=32, orient=9, \n",
    "                        pix_per_cell=8, cell_per_block=2, hog_channel='ALL',\n",
    "                        spatial_feat=False, hist_feat=False, hog_feat=True)\n",
    "notcar_features = extract_imgs_features(notcars, color_space=global_colour_space, spatial_size=(32, 32),\n",
    "                        hist_bins=32, orient=9, \n",
    "                        pix_per_cell=8, cell_per_block=2, hog_channel='ALL',\n",
    "                        spatial_feat=False, hist_feat=False, hog_feat=True)\n",
    "print('done extracting features')\n",
    "# Create an array stack of feature vectors\n",
    "X = np.vstack((car_features, notcar_features)).astype(np.float64)\n",
    "\n",
    "# # Fit a per-column scaler\n",
    "# X_scaler = StandardScaler().fit(X)\n",
    "# # Apply the scaler to X\n",
    "# scaled_X = X_scaler.transform(X)\n",
    "\n",
    "print('features len: {}'.format(len(car_features)))\n",
    "print('features shape: {}'.format(len(car_features[0].shape)))\n",
    "# Define the labels vector\n",
    "y = np.hstack((np.ones(len(car_features)), np.zeros(len(notcar_features))))\n",
    "\n",
    "\n",
    "# Split up data into randomized training and test sets\n",
    "rand_state = np.random.randint(0, 100)\n",
    "# X_train, X_test, y_train, y_test = train_test_split(\n",
    "#     scaled_X, y, test_size=0.2, random_state=rand_state)\n",
    "X_train, X_test, y_train, y_test = train_test_split(\n",
    "    X, y, test_size=0.2, random_state=rand_state)\n",
    "\n",
    "print('X_train len: {}' .format(len(X_train)))\n",
    "print('X_test len: {}' .format(len(X_test)))\n",
    "print('X_test len: {}' .format(len(X_test)))\n",
    "print('y_test len: {}' .format(len(y_test)))\n",
    "\n",
    "\n",
    "# Use a linear SVC \n",
    "print('creating svc')\n",
    "svc = LinearSVC()\n",
    "print('done creating svc')\n",
    "\n",
    "\n",
    "print('done')"
   ]
  },
  {
   "cell_type": "code",
   "execution_count": 17,
   "metadata": {
    "collapsed": true
   },
   "outputs": [
    {
     "name": "stdout",
     "output_type": "stream",
     "text": [
      "6.58 Seconds to train SVC...\nTest Accuracy of SVC =  0.9564\n"
     ]
    }
   ],
   "source": [
    "# Check the training time for the SVC\n",
    "t=time.time()\n",
    "svc.fit(X_train, y_train)\n",
    "t2 = time.time()\n",
    "print(round(t2-t, 2), 'Seconds to train SVC...')\n",
    "# Check the score of the SVC\n",
    "print('Test Accuracy of SVC = ', round(svc.score(X_test, y_test), 4))\n",
    "# Check the prediction time for a single sample\n",
    "t=time.time()"
   ]
  },
  {
   "cell_type": "code",
   "execution_count": 18,
   "metadata": {
    "collapsed": true
   },
   "outputs": [
    {
     "name": "stdout",
     "output_type": "stream",
     "text": [
      "My SVC predicts: \t [ 1.  0.  0.  0.  0.  1.  0.  1.  1.  1.]\nFor these 10 labels: \t [ 1.  0.  0.  0.  0.  1.  0.  1.  1.  1.]\n0.02607 Seconds to predict 10 labels with SVC\n"
     ]
    }
   ],
   "source": [
    "n_predict = 10\n",
    "print('My SVC predicts: \\t', svc.predict(X_test[0:n_predict]))\n",
    "print('For these',n_predict, 'labels: \\t', y_test[0:n_predict])\n",
    "t2 = time.time()\n",
    "print(round(t2-t, 5), 'Seconds to predict', n_predict,'labels with SVC')"
   ]
  },
  {
   "cell_type": "code",
   "execution_count": 19,
   "metadata": {
    "collapsed": true
   },
   "outputs": [],
   "source": [
    "def save_model(filename):\n",
    "    with open(filename, 'wb') as save_file:\n",
    "        pickle.dump(\n",
    "            {   'svc':svc, \n",
    "                # 'scaler': X_scaler,\n",
    "                'orient': orient,\n",
    "                'pix_per_cell': pix_per_cell,       \n",
    "                'cell_per_block': cell_per_block,\n",
    "                'spatial_size': spatial_size,\n",
    "                'hist_bins': hist_bins,\n",
    "            },\n",
    "            save_file, pickle.HIGHEST_PROTOCOL)"
   ]
  },
  {
   "cell_type": "code",
   "execution_count": 20,
   "metadata": {
    "collapsed": true
   },
   "outputs": [],
   "source": [
    "save_model('svc_pickle.p')"
   ]
  },
  {
   "cell_type": "code",
   "execution_count": 21,
   "metadata": {
    "collapsed": true
   },
   "outputs": [],
   "source": [
    "# Define a function to extract features from a single image window\n",
    "# This function is very similar to extract_features()\n",
    "# just for a single image rather than list of images\n",
    "def single_img_features(img, color_space='RGB', spatial_size=(32, 32),\n",
    "                        hist_bins=32, orient=9, \n",
    "                        pix_per_cell=8, cell_per_block=2, hog_channel=0,\n",
    "                        spatial_feat=True, hist_feat=True, hog_feat=True):    \n",
    "    #1) Define an empty list to receive features\n",
    "    img_features = []\n",
    "    #2) Apply color conversion if other than 'RGB'\n",
    "    if color_space != 'RGB':\n",
    "        if color_space == 'HSV':\n",
    "            feature_image = cv2.cvtColor(img, cv2.COLOR_RGB2HSV)\n",
    "        elif color_space == 'LUV':\n",
    "            feature_image = cv2.cvtColor(img, cv2.COLOR_RGB2LUV)\n",
    "        elif color_space == 'HLS':\n",
    "            feature_image = cv2.cvtColor(img, cv2.COLOR_RGB2HLS)\n",
    "        elif color_space == 'YUV':\n",
    "            feature_image = cv2.cvtColor(img, cv2.COLOR_RGB2YUV)\n",
    "        elif color_space == 'YCrCb':\n",
    "            feature_image = cv2.cvtColor(img, cv2.COLOR_RGB2YCrCb)\n",
    "    else: feature_image = np.copy(img)      \n",
    "    #3) Compute spatial features if flag is set\n",
    "    if spatial_feat == True:\n",
    "        spatial_features = bin_spatial(feature_image, size=spatial_size)\n",
    "        #4) Append features to list\n",
    "        img_features.append(spatial_features)\n",
    "    #5) Compute histogram features if flag is set\n",
    "    if hist_feat == True:\n",
    "        hist_features = color_hist(feature_image, nbins=hist_bins)\n",
    "        #6) Append features to list\n",
    "        img_features.append(hist_features)\n",
    "    #7) Compute HOG features if flag is set\n",
    "    if hog_feat == True:\n",
    "        if hog_channel == 'ALL':\n",
    "            hog_features = []\n",
    "            for channel in range(feature_image.shape[2]):\n",
    "                hog_features.extend(get_hog_features(feature_image[:,:,channel], \n",
    "                                    orient, pix_per_cell, cell_per_block, \n",
    "                                    vis=False, feature_vec=True))      \n",
    "        else:\n",
    "            hog_features = get_hog_features(feature_image[:,:,hog_channel], orient, \n",
    "                        pix_per_cell, cell_per_block, vis=False, feature_vec=True)\n",
    "        #8) Append features to list\n",
    "        img_features.append(hog_features)\n",
    "        print('img_features len: {}' .format(len(img_features)))\n",
    "\n",
    "    #9) Return concatenated array of features\n",
    "    return np.concatenate(img_features)"
   ]
  },
  {
   "cell_type": "code",
   "execution_count": 22,
   "metadata": {
    "collapsed": true
   },
   "outputs": [],
   "source": [
    "# Start of the sliding window functioality\n",
    "\n",
    "# Define a function you will pass an image \n",
    "# and the list of windows to be searched (output of slide_windows())\n",
    "def search_windows(img, windows, clf, scaler, color_space='RGB', \n",
    "                    spatial_size=(32, 32), hist_bins=32, \n",
    "                    hist_range=(0, 256), orient=9, \n",
    "                    pix_per_cell=8, cell_per_block=2, \n",
    "                    hog_channel=0, spatial_feat=True, \n",
    "                    hist_feat=True, hog_feat=True):\n",
    "\n",
    "    #1) Create an empty list to receive positive detection windows\n",
    "    on_windows = []\n",
    "    #2) Iterate over all windows in the list\n",
    "    for window in windows:\n",
    "        #3) Extract the test window from original image\n",
    "        test_img = cv2.resize(img[window[0][1]:window[1][1], window[0][0]:window[1][0]], (64, 64))      \n",
    "        #4) Extract features for that window using single_img_features()\n",
    "        features = single_img_features(test_img, color_space=color_space, \n",
    "                            spatial_size=spatial_size, hist_bins=hist_bins, \n",
    "                            orient=orient, pix_per_cell=pix_per_cell, \n",
    "                            cell_per_block=cell_per_block, \n",
    "                            hog_channel=hog_channel, spatial_feat=spatial_feat, \n",
    "                            hist_feat=hist_feat, hog_feat=hog_feat)\n",
    "        #5) Scale extracted features to be fed to classifier\n",
    "        test_features = scaler.transform(np.array(features).reshape(1, -1))\n",
    "        #6) Predict using your classifier\n",
    "        prediction = clf.predict(test_features)\n",
    "        #7) If positive (prediction == 1) then save the window\n",
    "        if prediction == 1:\n",
    "            on_windows.append(window)\n",
    "    #8) Return windows for positive detections\n",
    "    return on_windows"
   ]
  },
  {
   "cell_type": "code",
   "execution_count": 23,
   "metadata": {
    "collapsed": true
   },
   "outputs": [],
   "source": [
    "#load data from files\n",
    "\n",
    "dist_pickle = pickle.load( open(\"./svc_pickle.p\", \"rb\" ) )\n",
    "svc = dist_pickle[\"svc\"]\n",
    "# X_scaler = dist_pickle[\"scaler\"]\n",
    "orient = dist_pickle[\"orient\"]\n",
    "pix_per_cell = dist_pickle[\"pix_per_cell\"]\n",
    "cell_per_block = dist_pickle[\"cell_per_block\"]\n",
    "spatial_size = dist_pickle[\"spatial_size\"]\n",
    "hist_bins = dist_pickle[\"hist_bins\"]"
   ]
  },
  {
   "cell_type": "code",
   "execution_count": 23,
   "metadata": {
    "collapsed": true
   },
   "outputs": [],
   "source": [
    ""
   ]
  },
  {
   "cell_type": "code",
   "execution_count": 24,
   "metadata": {
    "collapsed": true
   },
   "outputs": [],
   "source": [
    "# Define a function to draw bounding boxes\n",
    "def draw_boxes(img, bboxes, color=(0, 0, 255), thick=6):\n",
    "    # Make a copy of the image\n",
    "    imcopy = np.copy(img)\n",
    "    # Iterate through the bounding boxes\n",
    "    for bbox in bboxes:\n",
    "        # Draw a rectangle given bbox coordinates\n",
    "        cv2.rectangle(imcopy, bbox[0], bbox[1], color, thick)\n",
    "    # Return the image copy with boxes drawn\n",
    "    return imcopy"
   ]
  },
  {
   "cell_type": "code",
   "execution_count": 25,
   "metadata": {
    "collapsed": true
   },
   "outputs": [],
   "source": [
    "# extracted the code to get the searchable portion of the image into its own meth\n",
    "def get_image_to_search(full_img, ystart, ystop):\n",
    "    img_tosearch = full_img[ystart:ystop,:,:]\n",
    "    ctrans_tosearch = convert_color(img_tosearch, cspace='RGB2YCrCb')\n",
    "    # plt.imshow(ctrans_tosearch)\n",
    "    return ctrans_tosearch"
   ]
  },
  {
   "cell_type": "code",
   "execution_count": 35,
   "metadata": {
    "collapsed": true
   },
   "outputs": [
    {
     "name": "stdout",
     "output_type": "stream",
     "text": [
      "image shape: (720, 1280, 3)\n"
     ]
    }
   ],
   "source": [
    "# \n",
    "\n",
    "img = mpimg.imread('./test_images/test1.jpg')\n",
    "plt.imshow(img)\n",
    "print('image shape: {}'.format(img.shape))\n",
    "    \n",
    "# ystart = 400\n",
    "# ystop = 656\n",
    "# scale = 1.5\n",
    "# ctrans_tosearch = get_image_to_search(img, ystart, ystop)"
   ]
  },
  {
   "cell_type": "code",
   "execution_count": 25,
   "metadata": {},
   "outputs": [],
   "source": [
    "class Rect():\n",
    "    def __init__(self, xbox_left, ytop_draw, win_draw):\n",
    "        self.image_raw = False\n",
    "        self.xbox_left = xbox_left\n",
    "        self.ytop_draw = ytop_draw\n",
    "        self.win_draw = win_draw"
   ]
  },
  {
   "cell_type": "code",
   "execution_count": 41,
   "metadata": {
    "collapsed": true
   },
   "outputs": [
    {
     "name": "stdout",
     "output_type": "stream",
     "text": [
      "image shape: (720, 1280, 3)\nnblocks_per_window: 7\n"
     ]
    },
    {
     "name": "stderr",
     "output_type": "stream",
     "text": [
      "C:\\Users\\georg\\Miniconda3\\envs\\carnd-term1\\lib\\site-packages\\skimage\\feature\\_hog.py:119: skimage_deprecation: Default value of `block_norm`==`L1` is deprecated and will be changed to `L2-Hys` in v0.15\n  'be changed to `L2-Hys` in v0.15', skimage_deprecation)\n"
     ]
    },
    {
     "data": {
      "text/plain": [
       "<matplotlib.image.AxesImage at 0x1330b82b828>"
      ]
     },
     "execution_count": 41,
     "metadata": {},
     "output_type": "execute_result"
    }
   ],
   "source": [
    "# Define a single function that can extract features using hog sub-sampling and make predictions\n",
    "def find_cars(img, ystart, ystop, scale, svc, X_scaler, orient, pix_per_cell, cell_per_block, spatial_size, hist_bins):\n",
    "    \n",
    "    all_rect = []\n",
    "    posi_rec = []\n",
    "    negi_rec = []\n",
    "    \n",
    "    print('image shape: {}'.format(img.shape))\n",
    "    \n",
    "    \n",
    "    draw_img = np.copy(img)\n",
    "    img = img.astype(np.float32)/255\n",
    "    # \n",
    "    # ctrans_tosearch = get_image_to_search(img, ystart, ystop)\n",
    "    # print('image shape: {}'.format(ctrans_tosearch.shape))\n",
    "    img_tosearch = img[ystart:ystop,:,:]\n",
    "    ctrans_tosearch = convert_color(img_tosearch, cspace=global_colour_space)\n",
    "    \n",
    "    if scale != 1:\n",
    "        imshape = ctrans_tosearch.shape\n",
    "        ctrans_tosearch = cv2.resize(ctrans_tosearch, (np.int(imshape[1]/scale), np.int(imshape[0]/scale)))\n",
    "        \n",
    "    ch1 = ctrans_tosearch[:,:,0]\n",
    "    ch2 = ctrans_tosearch[:,:,1]\n",
    "    ch3 = ctrans_tosearch[:,:,2]\n",
    "\n",
    "    # Define blocks and steps as above\n",
    "    nxblocks = (ch1.shape[1] // pix_per_cell) - cell_per_block + 1\n",
    "    nyblocks = (ch1.shape[0] // pix_per_cell) - cell_per_block + 1 \n",
    "    nfeat_per_block = orient*cell_per_block**2\n",
    "    \n",
    "    # 64 was the orginal sampling rate, with 8 cells and 8 pix per cell\n",
    "    window = 64\n",
    "    nblocks_per_window = (window // pix_per_cell) - cell_per_block + 1\n",
    "    print('nblocks_per_window: {}' .format(nblocks_per_window))\n",
    "    cells_per_step = 2  # Instead of overlap, define how many cells to step\n",
    "    nxsteps = (nxblocks - nblocks_per_window) // cells_per_step\n",
    "    nysteps = (nyblocks - nblocks_per_window) // cells_per_step\n",
    "    \n",
    "    # Compute individual channel HOG features for the entire image\n",
    "    hog1 = get_hog_features(ch1, orient, pix_per_cell, cell_per_block, feature_vec=False)\n",
    "    hog2 = get_hog_features(ch2, orient, pix_per_cell, cell_per_block, feature_vec=False)\n",
    "    hog3 = get_hog_features(ch3, orient, pix_per_cell, cell_per_block, feature_vec=False)\n",
    "    \n",
    "    for xb in range(nxsteps):\n",
    "        for yb in range(nysteps):\n",
    "            ypos = yb*cells_per_step\n",
    "            xpos = xb*cells_per_step\n",
    "            # Extract HOG for this patch\n",
    "            hog_feat1 = hog1[ypos:ypos+nblocks_per_window, xpos:xpos+nblocks_per_window].ravel() \n",
    "\n",
    "\n",
    "            hog_feat2 = hog2[ypos:ypos+nblocks_per_window, xpos:xpos+nblocks_per_window].ravel() \n",
    "            hog_feat3 = hog3[ypos:ypos+nblocks_per_window, xpos:xpos+nblocks_per_window].ravel() \n",
    "            hog_features = np.hstack((hog_feat1, hog_feat2, hog_feat3))\n",
    "            # print('hog_feat1 len: {}' .format(len(hog_feat1)))\n",
    "            # print('hog_feat2 len: {}' .format(len(hog_feat2)))  \n",
    "            # print('hog_feat3 len: {}' .format(len(hog_feat3)))\n",
    "            # print('hog_features len: {}' .format(len(hog_features)))            \n",
    "            xleft = xpos*pix_per_cell\n",
    "            ytop = ypos*pix_per_cell\n",
    "            # \n",
    "            # # Extract the image patch\n",
    "            # subimg = cv2.resize(ctrans_tosearch[ytop:ytop+window, xleft:xleft+window], (64,64))\n",
    "            # \n",
    "            # # Get color features\n",
    "            # spatial_features = bin_spatial(subimg, size=spatial_size)\n",
    "            # hist_features = color_hist(subimg, nbins=hist_bins)\n",
    "            # \n",
    "            # # Scale features and make a prediction\n",
    "            # print('spatial_features len:{}' .format(len(spatial_features)))\n",
    "            # print('hist_features len:{}' .format(len(hist_features)))\n",
    "            # print('hog_features len:{}' .format(len(hog_features)))\n",
    "            # print('spatial_features shape:{}' .format(spatial_features.shape))\n",
    "            # print('hist_features shape:{}' .format(hist_features.shape))\n",
    "            # print('hog_features shape:{}' .format(hog_features.shape))\n",
    "            # # test_features = X_scaler.transform(np.hstack((spatial_features, hist_features, hog_features)).reshape(1, -1))    \n",
    "            # test_features = X_scaler.transform(np.hstack((shape_feat, hist_feat)).reshape(1, -1))    \n",
    "            # test_prediction = svc.predict(test_features)\n",
    "            # test_prediction = svc.predict(hog_features)\n",
    "            test_prediction = svc.predict(hog_feat1.reshape(1, -1))    \n",
    "            \n",
    "            xbox_left = np.int(xleft*scale)\n",
    "            ytop_draw = np.int(ytop*scale)\n",
    "            win_draw = np.int(window*scale)\n",
    "            if test_prediction == 1:\n",
    "                # xbox_left = np.int(xleft*scale)\n",
    "                # ytop_draw = np.int(ytop*scale)\n",
    "                # win_draw = np.int(window*scale)\n",
    "                # cv2.rectangle(draw_img,(xbox_left, ytop_draw+ystart),(xbox_left+win_draw,ytop_draw+win_draw+ystart),(0,0,255),6) \n",
    "                rect = Rect(xbox_left, ytop_draw, win_draw)\n",
    "                posi_rec.append(rect)\n",
    "            else:\n",
    "                rect = Rect(xbox_left, ytop_draw, win_draw)\n",
    "                negi_rec.append(rect)\n",
    "                \n",
    "    for rect in negi_rec:\n",
    "        xbox_left = rect.xbox_left\n",
    "        ytop_draw = rect.ytop_draw\n",
    "        win_draw = rect.win_draw\n",
    "        cv2.rectangle(draw_img ,(xbox_left, ytop_draw+ystart),(xbox_left+win_draw,ytop_draw+win_draw+ystart),(0,0,255),6)            \n",
    "                        \n",
    "    for rect in posi_rec:\n",
    "        xbox_left = rect.xbox_left\n",
    "        ytop_draw = rect.ytop_draw\n",
    "        win_draw = rect.win_draw\n",
    "        cv2.rectangle(draw_img ,(xbox_left, ytop_draw+ystart),(xbox_left+win_draw,ytop_draw+win_draw+ystart),(0,0,255),6)            \n",
    "                \n",
    "    return draw_img\n",
    "    \n",
    "ystart = 400\n",
    "ystop = 656\n",
    "scale = 1\n",
    "    \n",
    "out_img = find_cars(img, ystart, ystop, scale, svc, X, orient, pix_per_cell, cell_per_block, spatial_size, hist_bins)\n",
    "\n",
    "plt.imshow(out_img)"
   ]
  },
  {
   "cell_type": "code",
   "execution_count": null,
   "metadata": {
    "collapsed": true
   },
   "outputs": [],
   "source": [
    ""
   ]
  },
  {
   "cell_type": "code",
   "execution_count": null,
   "metadata": {},
   "outputs": [],
   "source": [
    ""
   ]
  },
  {
   "cell_type": "code",
   "execution_count": null,
   "metadata": {},
   "outputs": [],
   "source": [
    ""
   ]
  }
 ],
 "metadata": {
  "kernelspec": {
   "display_name": "Python 3",
   "language": "python",
   "name": "python3"
  },
  "language_info": {
   "codemirror_mode": {
    "name": "ipython",
    "version": 3.0
   },
   "file_extension": ".py",
   "mimetype": "text/x-python",
   "name": "python",
   "nbconvert_exporter": "python",
   "pygments_lexer": "ipython3",
   "version": "3.5.2"
  },
  "widgets": {
   "state": {},
   "version": "1.1.2"
  }
 },
 "nbformat": 4,
 "nbformat_minor": 0
}